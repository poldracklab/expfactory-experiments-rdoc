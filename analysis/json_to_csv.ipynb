{
 "cells": [
  {
   "cell_type": "code",
   "execution_count": null,
   "metadata": {},
   "outputs": [],
   "source": [
    "import os\n",
    "import json\n",
    "import pandas as pd"
   ]
  },
  {
   "cell_type": "code",
   "execution_count": null,
   "metadata": {},
   "outputs": [],
   "source": [
    "dir = \"./data\"  \n",
    "\n",
    "for filename in os.listdir(dir):\n",
    "    if filename.endswith(\".json\"):\n",
    "        filepath = os.path.join(dir, filename)\n",
    "\n",
    "        with open(filepath, \"r\", encoding=\"utf-8\") as file:\n",
    "            data = json.load(file)\n",
    "\n",
    "        trial_data = json.loads(data[\"trialdata\"])\n",
    "        df = pd.DataFrame(trial_data)\n",
    "\n",
    "        csv_filename = filename.replace(\".json\", \".csv\")\n",
    "        csv_filepath = os.path.join(dir, csv_filename)\n",
    "        df.to_csv(csv_filepath)\n",
    "\n",
    "        print(f\"Converted {filename} to {csv_filename}\")"
   ]
  }
 ],
 "metadata": {
  "kernelspec": {
   "display_name": "Python 3",
   "language": "python",
   "name": "python3"
  },
  "language_info": {
   "codemirror_mode": {
    "name": "ipython",
    "version": 3
   },
   "file_extension": ".py",
   "mimetype": "text/x-python",
   "name": "python",
   "nbconvert_exporter": "python",
   "pygments_lexer": "ipython3",
   "version": "3.11.5"
  },
  "orig_nbformat": 4
 },
 "nbformat": 4,
 "nbformat_minor": 2
}
