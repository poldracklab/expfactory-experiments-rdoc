{
 "cells": [
  {
   "cell_type": "code",
   "execution_count": 1,
   "metadata": {},
   "outputs": [],
   "source": [
    "import pandas as pd\n",
    "import os\n",
    "\n",
    "from utils import TaskData"
   ]
  },
  {
   "cell_type": "code",
   "execution_count": 2,
   "metadata": {},
   "outputs": [],
   "source": [
    "# Path to the directory containing CSV files\n",
    "directory_path = \"data/\"\n",
    "\n",
    "# Dictionary to hold dataframes\n",
    "dataframes = {}\n",
    "\n",
    "# Loop through each file in the directory\n",
    "for filename in os.listdir(directory_path):\n",
    "    if filename.endswith(\".csv\"):\n",
    "        # Extract part of the filename up to \"rdoc\"\n",
    "        key_name = filename.split(\"_rdoc\")[0]\n",
    "\n",
    "        # Read CSV file\n",
    "        file_path = os.path.join(directory_path, filename)\n",
    "        dataframes[key_name] = pd.read_csv(file_path)\n",
    "\n",
    "# Now you have a dictionary of dataframes\n",
    "task_names = dataframes.keys()"
   ]
  },
  {
   "cell_type": "code",
   "execution_count": 3,
   "metadata": {},
   "outputs": [],
   "source": [
    "mean_rts_by_task_and_condition = {}\n",
    "mean_accs_by_task_and_condition = {}\n",
    "mean_omissions_by_task_and_condition = {}\n",
    "mean_attention_check_by_task = {}\n",
    "total_time_spent_on_task_by_task = {}\n",
    "\n",
    "for task in task_names:\n",
    "    df = dataframes[task]\n",
    "    task_data = TaskData(df)\n",
    "    task_name = task_data.get_id()\n",
    "    mean_rts_by_task_and_condition[task_name] = task_data.calculate_mean_rts()\n",
    "    mean_accs_by_task_and_condition[task_name] = task_data.calculate_mean_accs()\n",
    "    mean_omissions_by_task_and_condition[\n",
    "        task_name\n",
    "    ] = task_data.calculate_mean_omissions()\n",
    "    mean_attention_check_by_task[task_name] = task_data.calculate_attention_checks_acc()\n",
    "    total_time_spent_on_task_by_task[task_name] = task_data.get_total_time()"
   ]
  },
  {
   "cell_type": "code",
   "execution_count": 4,
   "metadata": {},
   "outputs": [
    {
     "data": {
      "text/plain": [
       "{'flanker_rdoc': '5 minutes, 39 seconds',\n",
       " 'spatial_task_switching_rdoc': '123 minutes, 53 seconds',\n",
       " 'go_nogo_rdoc': '9 minutes, 29 seconds',\n",
       " 'spatial_cueing_rdoc': '21 minutes, 44 seconds',\n",
       " 'n_back_rdoc': '7 minutes, 0 seconds',\n",
       " 'span_rdoc': '25 minutes, 28 seconds',\n",
       " 'visual_search_rdoc': '10 minutes, 8 seconds',\n",
       " 'ax_cpt_rdoc': '16 minutes, 9 seconds',\n",
       " 'stop_signal_rdoc': '8 minutes, 41 seconds',\n",
       " 'stroop_rdoc': '6 minutes, 13 seconds',\n",
       " 'cued_task_switching_rdoc': '9 minutes, 24 seconds'}"
      ]
     },
     "execution_count": 4,
     "metadata": {},
     "output_type": "execute_result"
    }
   ],
   "source": [
    "mean_attention_check_by_task"
   ]
  }
 ],
 "metadata": {
  "kernelspec": {
   "display_name": "Python 3",
   "language": "python",
   "name": "python3"
  },
  "language_info": {
   "codemirror_mode": {
    "name": "ipython",
    "version": 3
   },
   "file_extension": ".py",
   "mimetype": "text/x-python",
   "name": "python",
   "nbconvert_exporter": "python",
   "pygments_lexer": "ipython3",
   "version": "3.11.5"
  },
  "orig_nbformat": 4
 },
 "nbformat": 4,
 "nbformat_minor": 2
}
