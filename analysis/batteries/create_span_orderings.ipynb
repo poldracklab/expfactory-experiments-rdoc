{
 "cells": [
  {
   "cell_type": "code",
   "execution_count": null,
   "metadata": {},
   "outputs": [],
   "source": [
    "import numpy as np"
   ]
  },
  {
   "cell_type": "code",
   "execution_count": 60,
   "metadata": {},
   "outputs": [
    {
     "data": {
      "text/plain": [
       "[[[0, 1], [1, 0], [0, 1], [1, 0], [1, 0]],\n",
       " [[0, 1], [1, 0], [0, 1], [0, 1], [1, 0]],\n",
       " [[0, 1], [0, 1], [0, 1], [1, 0], [1, 0]],\n",
       " [[0, 1], [1, 0], [1, 0], [0, 1], [0, 1]]]"
      ]
     },
     "execution_count": 60,
     "metadata": {},
     "output_type": "execute_result"
    }
   ],
   "source": [
    "import random\n",
    "\n",
    "def create_balanced_array():\n",
    "    random.seed(0)\n",
    "    outer_array = []\n",
    "    for _ in range(4):  # For each outer array\n",
    "        inner_array = []\n",
    "        # Ensure at least 2 of each [0, 1] and [1, 0] pairs\n",
    "        base_pairs = [[0, 1], [1, 0], [0, 1], [1, 0]]\n",
    "        random.shuffle(base_pairs)  # Shuffle to randomize the placement\n",
    "        for _ in range(5 - len(base_pairs)):  # Fill the rest to make 5 inner arrays\n",
    "            pair = [0, 1] if random.choice([True, False]) else [1, 0]\n",
    "            base_pairs.append(pair)\n",
    "        random.shuffle(base_pairs)  # Shuffle again for good measure\n",
    "        inner_array.extend(base_pairs)\n",
    "        outer_array.append(inner_array)\n",
    "    return outer_array\n",
    "\n",
    "# Print the generated 3D array\n",
    "span_sets = create_balanced_array()\n",
    "span_sets"
   ]
  },
  {
   "cell_type": "code",
   "execution_count": 62,
   "metadata": {},
   "outputs": [
    {
     "data": {
      "text/plain": [
       "{'[1, 0]': 0.45, '[0, 1]': 0.55}"
      ]
     },
     "execution_count": 62,
     "metadata": {},
     "output_type": "execute_result"
    }
   ],
   "source": [
    "def calculate_proportions(array):\n",
    "    count_10 = 0\n",
    "    count_01 = 0\n",
    "    total_pairs = 0  # Total number of [1,0] and [0,1] pairs\n",
    "\n",
    "    # Iterate through each level of the array to count [1,0] and [0,1]\n",
    "    for outer in array:\n",
    "        for inner in outer:\n",
    "            if inner == [1, 0]:\n",
    "                count_10 += 1\n",
    "            elif inner == [0, 1]:\n",
    "                count_01 += 1\n",
    "\n",
    "    total_pairs = count_10 + count_01\n",
    "\n",
    "    # Calculate proportions if there are any pairs to avoid division by zero\n",
    "    if total_pairs > 0:\n",
    "        proportion_10 = count_10 / total_pairs\n",
    "        proportion_01 = count_01 / total_pairs\n",
    "    else:\n",
    "        proportion_10 = 0\n",
    "        proportion_01 = 0\n",
    "\n",
    "    return {\"[1, 0]\": proportion_10, \"[0, 1]\": proportion_01}"
   ]
  }
 ],
 "metadata": {
  "kernelspec": {
   "display_name": "Python 3",
   "language": "python",
   "name": "python3"
  },
  "language_info": {
   "codemirror_mode": {
    "name": "ipython",
    "version": 3
   },
   "file_extension": ".py",
   "mimetype": "text/x-python",
   "name": "python",
   "nbconvert_exporter": "python",
   "pygments_lexer": "ipython3",
   "version": "3.11.5"
  },
  "orig_nbformat": 4
 },
 "nbformat": 4,
 "nbformat_minor": 2
}
